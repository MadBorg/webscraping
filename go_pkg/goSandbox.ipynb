{
 "cells": [
  {
   "cell_type": "code",
   "execution_count": 26,
   "metadata": {},
   "outputs": [],
   "source": [
    "import (\n",
    "\t\"context\"\n",
    "\t\"fmt\"\n",
    "    \"log\"\n",
    "    \"time\"\n",
    "\t\"go.mongodb.org/mongo-driver/bson\"\n",
    "\t\"go.mongodb.org/mongo-driver/mongo\"\n",
    "\t\"go.mongodb.org/mongo-driver/mongo/options\"\n",
    "    \n",
    "\n",
    ")"
   ]
  },
  {
   "cell_type": "code",
   "execution_count": 9,
   "metadata": {},
   "outputs": [],
   "source": [
    "type Realest struct {\n",
    "\tTitle, Address, URL, DateTime string\n",
    "\tID, Price                     int\n",
    "\tInfo                          map[string]string\n",
    "\tActive                        bool\n",
    "\tUpdates                       map[string]Realest // datetime string\n",
    "}\n",
    "\n",
    "type RealestKey struct {\n",
    "\tTitle, Address string\n",
    "\tID             int\n",
    "}\n",
    "\n",
    "func logIfErr(e error, msg string) bool {\n",
    "\tif e != nil {\n",
    "\t\tlog.Fatal(msg+\"\\n\", e)\n",
    "\t}\n",
    "\treturn e != nil\n",
    "}\n",
    "\n",
    "func logIfFatal(e error, msg string) bool {\n",
    "\tif e != nil {\n",
    "\t\tlog.Fatalf(\"%s %s\", e)\n",
    "\t}\n",
    "\treturn e != nil\n",
    "}"
   ]
  },
  {
   "cell_type": "code",
   "execution_count": 10,
   "metadata": {
    "scrolled": true
   },
   "outputs": [
    {
     "name": "stdout",
     "output_type": "stream",
     "text": [
      "Connected to mongoDB!\n",
      "Collection: &{0xc001090380 0xc000d609c0 Realestate 0xc0005f3660 <nil> 0x7f774ff718e0 0xc000851340 0xc000851420 0xc00023d2d0}\n"
     ]
    }
   ],
   "source": [
    "func isInDb(c *mongo.Collection, realest Realest) (*mongo.SingleResult, bool) {\n",
    "\t// If realest in db, return the decoded realest and true, else nil and false.\n",
    "\n",
    "\tone := c.FindOne(context.TODO(), bson.M{\n",
    "\t\t\"id\":      realest.ID,\n",
    "\t\t\"title\":   realest.Title,\n",
    "\t\t\"address\": realest.Address,\n",
    "\t})\n",
    "\treturn one, one.Err() == nil\n",
    "\n",
    "}\n",
    "\n",
    "func getFinnRealestateCollection() *mongo.Collection {\n",
    "\tclientOptions := options.Client().ApplyURI(\"mongodb://localhost:27017\")\n",
    "\tclient, e := mongo.Connect(context.TODO(), clientOptions)\n",
    "\tlogIfErr(e, \"client, e := mongo.Connect(context.TODO(), clientOptions), Failed.\")\n",
    "\n",
    "\te = client.Ping(context.TODO(), nil)\n",
    "\tlogIfErr(e, \"e = client.Ping(context.TODO(), nil), Failed\")\n",
    "\tfmt.Println(\"Connected to mongoDB!\")\n",
    "\tcollection := client.Database(\"Finn\").Collection(\"Realestate\")\n",
    "\tfmt.Println(\"Collection:\", collection)\n",
    "\treturn collection\n",
    "}\n",
    "\n",
    "c := getFinnRealestateCollection()"
   ]
  },
  {
   "cell_type": "code",
   "execution_count": 27,
   "metadata": {},
   "outputs": [
    {
     "ename": "ERROR",
     "evalue": "repl.go:8:53: not a package: \"realest\" in realest.RightUpdates <*ast.SelectorExpr>",
     "output_type": "error",
     "traceback": [
      "repl.go:8:53: not a package: \"realest\" in realest.RightUpdates <*ast.SelectorExpr>"
     ]
    }
   ],
   "source": [
    "func UpdateManyRealestate(c *mongo.Collection, realestates map[int]Realest) {\n",
    "\tvar old Realest\n",
    "\tvar isUpdated bool\n",
    "\tfor _, realest := range realestates {\n",
    "\t\tif oldBson, exist := isInDb(c, realest); exist {\n",
    "\t\t\t// if realest exists in db, update if different\n",
    "\t\t\toldBson.Decode(&old)\n",
    "\t\t\tif old.Updates[time.Now().String()], isUpdated = realest.RightUpdates(old); isUpdated  {\n",
    "\t\t\t\t// Insert update\n",
    "\t\t\t\tc.UpdateOne(context.TODO(), oldBson, old)\n",
    "\n",
    "\t\t\t} // Else skip\n",
    "\n",
    "\t\t} else {\n",
    "\t\t\t// Insert\n",
    "\t\t\tc.InsertOne(context.TODO(), realest)\n",
    "\t\t}\n",
    "\t}\n",
    "}"
   ]
  },
  {
   "cell_type": "code",
   "execution_count": 16,
   "metadata": {},
   "outputs": [],
   "source": [
    "old, isIn := isInDb(c, Realest{\n",
    "    ID: 205519251,\n",
    "    Title: \"Oppussingsobjekt - Pen og koselig liten enebolig med garasje og usjenert bakhage\",\n",
    "    Address: \"Geddes gate 9, 3189 Horten\",\n",
    "})"
   ]
  },
  {
   "cell_type": "code",
   "execution_count": 23,
   "metadata": {},
   "outputs": [
    {
     "name": "stdout",
     "output_type": "stream",
     "text": [
      "{Oppussingsobjekt - Pen og koselig liten enebolig med garasje og usjenert bakhage Geddes gate 9, 3189 Horten https://www.finn.no/realestate/homes/ad.html?finnkode=205519251  205519251 2750000 map[Boligtype:Enebolig Bruksareal:160 m² Bruttoareal:181 m² Byggeår:1966 Eieform bolig:Eier (Selveier) Energimerking:\n",
      "                        \n",
      "                            G - oransje\n",
      "                            \n",
      "                     Etasje:3 Formuesverdi:744 510 kr Kommunale avg.:11 864 kr per år Mobil:\n",
      "                      472 93 982\n",
      "                         Omkostninger:70 092 kr Primærrom:122 m² Soverom:3 Søn.:31. januar Tomteareal:386 m² (eiet) Totalpris:2 820 092 kr  :12:00 - 13:00] false map[]}\n"
     ]
    },
    {
     "data": {
      "text/plain": [
       "713 <nil>"
      ]
     },
     "execution_count": 23,
     "metadata": {},
     "output_type": "execute_result"
    }
   ],
   "source": [
    "newRealest := Realest{\n",
    "    ID: 10\n",
    "}\n"
   ]
  }
 ],
 "metadata": {
  "kernelspec": {
   "display_name": "Go",
   "language": "go",
   "name": "gophernotes"
  },
  "language_info": {
   "codemirror_mode": "",
   "file_extension": ".go",
   "mimetype": "",
   "name": "go",
   "nbconvert_exporter": "",
   "pygments_lexer": "",
   "version": "go1.15.7"
  }
 },
 "nbformat": 4,
 "nbformat_minor": 4
}
