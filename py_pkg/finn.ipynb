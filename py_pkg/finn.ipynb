{
 "cells": [
  {
   "cell_type": "code",
   "execution_count": 2,
   "metadata": {},
   "outputs": [],
   "source": [
    "from bs4 import BeautifulSoup\n",
    "from urllib.parse import urlparse\n",
    "import requests\n",
    "from IPython import embed\n",
    "from finn import realestate"
   ]
  },
  {
   "cell_type": "code",
   "execution_count": 3,
   "metadata": {},
   "outputs": [],
   "source": [
    "index_soup = realestate.get_soup(\"https://www.finn.no/realestate/homes/search.html?sort=PUBLISHED_DESC\")"
   ]
  },
  {
   "cell_type": "code",
   "execution_count": 4,
   "metadata": {},
   "outputs": [],
   "source": [
    "h3 = [h3 for h3 in index_soup.find_all(\n",
    "    \"h3\", {\"class\": \"u-t5 u-mt32\"}) if h3.get_text() == \"Område\"][0]\n"
   ]
  },
  {
   "cell_type": "code",
   "execution_count": 36,
   "metadata": {},
   "outputs": [
    {
     "output_type": "execute_result",
     "data": {
      "text/plain": [
       "{'Agder': '0.22042',\n",
       " 'Innlandet': '0.22034',\n",
       " 'Møre og Romsdal': '0.20015',\n",
       " 'Nordland': '0.20018',\n",
       " 'Oslo': '0.20061',\n",
       " 'Rogaland': '0.20012',\n",
       " 'Svalbard': '0.20506',\n",
       " 'Troms og Finnmark': '0.22054',\n",
       " 'Trøndelag': '0.20016',\n",
       " 'Vestfold og Telemark': '0.22038',\n",
       " 'Vestland': '0.22046',\n",
       " 'Viken': '0.22030'}"
      ]
     },
     "metadata": {},
     "execution_count": 36
    }
   ],
   "source": [
    "location_map = {\n",
    "    re.sub(r' \\([^)]*\\)', \"\",li.get_text()): str(li.input)[20:27] \n",
    "    for li in h3.find_next(\"ul\").find_all(\"li\")\n",
    "}\n",
    "location_map"
   ]
  },
  {
   "cell_type": "code",
   "execution_count": 35,
   "metadata": {},
   "outputs": [
    {
     "output_type": "execute_result",
     "data": {
      "text/plain": [
       "'Agder'"
      ]
     },
     "metadata": {},
     "execution_count": 35
    }
   ],
   "source": [
    "import re\n"
   ]
  }
 ],
 "metadata": {
  "kernelspec": {
   "display_name": "Python 3",
   "language": "python",
   "name": "python3"
  },
  "language_info": {
   "codemirror_mode": {
    "name": "ipython",
    "version": 3
   },
   "file_extension": ".py",
   "mimetype": "text/x-python",
   "name": "python",
   "nbconvert_exporter": "python",
   "pygments_lexer": "ipython3",
   "version": "3.8.5-final"
  }
 },
 "nbformat": 4,
 "nbformat_minor": 4
}